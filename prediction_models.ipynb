{
 "cells": [
  {
   "cell_type": "markdown",
   "id": "29cc324e",
   "metadata": {
    "tags": []
   },
   "source": [
    "### Testing the Performance of Bubble, Insertion Sort, and Selection.\n",
    "The data consists of the following columns:\n",
    "- `SortType` - The algorithm used to sort the data (bubble sort, selection sort, insertion sort).\n",
    "- `ArrayType` - The order the integers in the array prior to sorting.\n",
    "    - `Random` - The integers in the array were in random order.\n",
    "    - `Increasing` - The integers in the array were in ascending order.\n",
    "    - `IncreasingAndRandom` - 90% of the integers were in ascending order while 10% were in random order.\n",
    "    - `Decreasing` - The integers in the array were in descending order.\n",
    "    - `Equal` - The integers in the array were all the same.\n",
    "- `ArraySize` - The size of the array.\n",
    "    - `10000` - The array contained 10,000 integers.\n",
    "    - `25000` - The array contained 25,000 integers.\n",
    "    - `50000` - The array contained 50,000 integers.\n",
    "    - `100000` - The array contained 100,000 integers.\n",
    "- `Test`# - The time it took in milliseconds to sort the array.\n",
    "- `AverageTime` - The average of all all the test times in milliseconds."
   ]
  },
  {
   "cell_type": "code",
   "execution_count": 1,
   "id": "1909b3b6",
   "metadata": {},
   "outputs": [],
   "source": [
    "import numpy as np\n",
    "import pandas as pd\n",
    "import seaborn as sns\n",
    "import matplotlib as mpl\n",
    "import matplotlib.pyplot as plt\n",
    "import statsmodels.formula.api as smf\n",
    "from sklearn.metrics import mean_squared_error\n",
    "from sklearn.model_selection import train_test_split\n",
    "%matplotlib inline"
   ]
  },
  {
   "cell_type": "markdown",
   "id": "9e717804",
   "metadata": {},
   "source": [
    "Increase the display size of all graphs by `factor`."
   ]
  },
  {
   "cell_type": "code",
   "execution_count": 2,
   "id": "7cbbb386",
   "metadata": {},
   "outputs": [],
   "source": [
    "factor = 1.2\n",
    "mpl.rcParams['figure.dpi'] = mpl.rcParamsDefault['figure.dpi'] * factor"
   ]
  },
  {
   "cell_type": "markdown",
   "id": "1a3181aa",
   "metadata": {},
   "source": [
    "Set the color style for all displayed graphs. Run `plt.style.available` for a list of styles."
   ]
  },
  {
   "cell_type": "code",
   "execution_count": 3,
   "id": "db7a2543",
   "metadata": {},
   "outputs": [],
   "source": [
    "plt.style.use([\"dark_background\"])"
   ]
  },
  {
   "cell_type": "markdown",
   "id": "e75bde39",
   "metadata": {},
   "source": [
    "### Data\n",
    "The data is the same as the data from the [sorting algorithms analysis](https://github.com/irisfield/sorting-algorithms-analysis) project."
   ]
  },
  {
   "cell_type": "code",
   "execution_count": 4,
   "id": "51b7bd6a",
   "metadata": {},
   "outputs": [],
   "source": [
    "tests = pd.read_csv(\"data/sort_tests.csv\")"
   ]
  },
  {
   "cell_type": "code",
   "execution_count": 5,
   "id": "31283153",
   "metadata": {},
   "outputs": [
    {
     "data": {
      "text/html": [
       "<div>\n",
       "<style scoped>\n",
       "    .dataframe tbody tr th:only-of-type {\n",
       "        vertical-align: middle;\n",
       "    }\n",
       "\n",
       "    .dataframe tbody tr th {\n",
       "        vertical-align: top;\n",
       "    }\n",
       "\n",
       "    .dataframe thead th {\n",
       "        text-align: right;\n",
       "    }\n",
       "</style>\n",
       "<table border=\"1\" class=\"dataframe\">\n",
       "  <thead>\n",
       "    <tr style=\"text-align: right;\">\n",
       "      <th></th>\n",
       "      <th>SortType</th>\n",
       "      <th>ArrayType</th>\n",
       "      <th>ArraySize</th>\n",
       "      <th>Test1</th>\n",
       "      <th>Test2</th>\n",
       "      <th>Test3</th>\n",
       "      <th>Test4</th>\n",
       "      <th>Test5</th>\n",
       "      <th>Test6</th>\n",
       "      <th>Test7</th>\n",
       "      <th>Test8</th>\n",
       "      <th>Test9</th>\n",
       "      <th>AverageTime</th>\n",
       "    </tr>\n",
       "  </thead>\n",
       "  <tbody>\n",
       "    <tr>\n",
       "      <th>0</th>\n",
       "      <td>BubbleSort</td>\n",
       "      <td>Equal</td>\n",
       "      <td>10000</td>\n",
       "      <td>2.100887</td>\n",
       "      <td>1.816844</td>\n",
       "      <td>1.734940</td>\n",
       "      <td>1.653783</td>\n",
       "      <td>1.620458</td>\n",
       "      <td>1.646332</td>\n",
       "      <td>1.654642</td>\n",
       "      <td>1.675758</td>\n",
       "      <td>0.395732</td>\n",
       "      <td>1.588819</td>\n",
       "    </tr>\n",
       "    <tr>\n",
       "      <th>1</th>\n",
       "      <td>BubbleSort</td>\n",
       "      <td>Equal</td>\n",
       "      <td>25000</td>\n",
       "      <td>0.344438</td>\n",
       "      <td>0.342302</td>\n",
       "      <td>0.340168</td>\n",
       "      <td>0.341084</td>\n",
       "      <td>0.273704</td>\n",
       "      <td>0.343259</td>\n",
       "      <td>0.340629</td>\n",
       "      <td>0.346424</td>\n",
       "      <td>0.286490</td>\n",
       "      <td>0.328722</td>\n",
       "    </tr>\n",
       "    <tr>\n",
       "      <th>2</th>\n",
       "      <td>BubbleSort</td>\n",
       "      <td>Equal</td>\n",
       "      <td>50000</td>\n",
       "      <td>0.669300</td>\n",
       "      <td>0.714362</td>\n",
       "      <td>0.750050</td>\n",
       "      <td>0.751582</td>\n",
       "      <td>0.724130</td>\n",
       "      <td>0.845181</td>\n",
       "      <td>0.480185</td>\n",
       "      <td>0.509878</td>\n",
       "      <td>0.512997</td>\n",
       "      <td>0.661962</td>\n",
       "    </tr>\n",
       "    <tr>\n",
       "      <th>3</th>\n",
       "      <td>BubbleSort</td>\n",
       "      <td>Equal</td>\n",
       "      <td>100000</td>\n",
       "      <td>0.983173</td>\n",
       "      <td>0.811248</td>\n",
       "      <td>0.910891</td>\n",
       "      <td>0.922530</td>\n",
       "      <td>0.944618</td>\n",
       "      <td>0.962387</td>\n",
       "      <td>0.922943</td>\n",
       "      <td>1.047562</td>\n",
       "      <td>0.937066</td>\n",
       "      <td>0.938046</td>\n",
       "    </tr>\n",
       "    <tr>\n",
       "      <th>4</th>\n",
       "      <td>BubbleSort</td>\n",
       "      <td>Random</td>\n",
       "      <td>10000</td>\n",
       "      <td>1423.721529</td>\n",
       "      <td>1615.646777</td>\n",
       "      <td>1636.998131</td>\n",
       "      <td>1733.617812</td>\n",
       "      <td>1699.408568</td>\n",
       "      <td>1608.589898</td>\n",
       "      <td>1640.827512</td>\n",
       "      <td>1584.911188</td>\n",
       "      <td>1805.414216</td>\n",
       "      <td>1638.792847</td>\n",
       "    </tr>\n",
       "  </tbody>\n",
       "</table>\n",
       "</div>"
      ],
      "text/plain": [
       "     SortType ArrayType  ArraySize        Test1        Test2        Test3  \\\n",
       "0  BubbleSort     Equal      10000     2.100887     1.816844     1.734940   \n",
       "1  BubbleSort     Equal      25000     0.344438     0.342302     0.340168   \n",
       "2  BubbleSort     Equal      50000     0.669300     0.714362     0.750050   \n",
       "3  BubbleSort     Equal     100000     0.983173     0.811248     0.910891   \n",
       "4  BubbleSort    Random      10000  1423.721529  1615.646777  1636.998131   \n",
       "\n",
       "         Test4        Test5        Test6        Test7        Test8  \\\n",
       "0     1.653783     1.620458     1.646332     1.654642     1.675758   \n",
       "1     0.341084     0.273704     0.343259     0.340629     0.346424   \n",
       "2     0.751582     0.724130     0.845181     0.480185     0.509878   \n",
       "3     0.922530     0.944618     0.962387     0.922943     1.047562   \n",
       "4  1733.617812  1699.408568  1608.589898  1640.827512  1584.911188   \n",
       "\n",
       "         Test9  AverageTime  \n",
       "0     0.395732     1.588819  \n",
       "1     0.286490     0.328722  \n",
       "2     0.512997     0.661962  \n",
       "3     0.937066     0.938046  \n",
       "4  1805.414216  1638.792847  "
      ]
     },
     "execution_count": 5,
     "metadata": {},
     "output_type": "execute_result"
    }
   ],
   "source": [
    "tests.head()"
   ]
  },
  {
   "cell_type": "markdown",
   "id": "af096297",
   "metadata": {},
   "source": [
    "### Learning Models\n",
    "**Terminology**\n",
    "- The *dependent variable* is the variable being predicted.\n",
    "- The *features* (or the *independent variables*) are the known variables used to predict the dependent variable.\n",
    "- The *mean squared error* is a comparison metric for linear regression, polynomial regression, and decision tree regression to compare two or more learning models.\n",
    "\n",
    "**Dependent Variable**\n",
    "- The variable being predicted for this project is the `AverageTime` column. The approximate time in milliseconds it takes a given algorithm to sort through an array based on specified characteristics.\n",
    "- The dependent variable will be represented by the variable `y` in this project.\n",
    "\n",
    "**Independent Variables**\n",
    "- Other than the `AverageTime` column, all the remaining columns can be used as features. \n",
    "- It may be neccesary to convert qualitative data, such as the `SortType` and `ArrayType` columns into dummy variable before they can used as features.\n",
    "- The independent variables will be presented by variable `x` in this project.\n",
    "\n",
    "**Algorithms**\n",
    "- The learning algorithms covered in class are:\n",
    "    - Linear Regression\n",
    "    - Polynomial Regression\n",
    "    - Decision Tree\n",
    "    - K-Nearest Neighbors\n",
    "    - Logistic Regression\n",
    "    \n",
    "**Models**\n",
    "- The the average time variable is quantitative and continous.\n",
    "- Multiple numerical columns will be used as features.\n",
    "- Given these conditions, the algorithms that can be used for predicting the average time are:\n",
    "    - Linear Regression\n",
    "    - Decision Tree\n",
    "    - K-Nearest Neighbors"
   ]
  },
  {
   "cell_type": "markdown",
   "id": "039feeec",
   "metadata": {},
   "source": [
    "-------------------------------------------------------------------------"
   ]
  },
  {
   "cell_type": "markdown",
   "id": "f7eef8bd",
   "metadata": {},
   "source": [
    "### Preparations"
   ]
  },
  {
   "cell_type": "markdown",
   "id": "cfaa015f",
   "metadata": {},
   "source": [
    "##### Dummy Variables\n",
    "Convert qualitative columns into numerical columns."
   ]
  },
  {
   "cell_type": "code",
   "execution_count": 6,
   "id": "f680b097",
   "metadata": {},
   "outputs": [],
   "source": [
    "qcolumns = [\"SortType\", \"ArrayType\"]\n",
    "tests = pd.get_dummies(tests, columns = qcolumns, drop_first = True)"
   ]
  },
  {
   "cell_type": "markdown",
   "id": "2d534a19",
   "metadata": {},
   "source": [
    "Display the DataFrame and make sure the dummy variables are correct. The `drop_first = True` parameter drops the first dummy variable to reduce the the number of columns. The dropped column is implied because if all the dummy variables for a row are zeros, then it could only be the dropped column."
   ]
  },
  {
   "cell_type": "code",
   "execution_count": 7,
   "id": "0de60488",
   "metadata": {
    "scrolled": true
   },
   "outputs": [
    {
     "data": {
      "text/html": [
       "<div>\n",
       "<style scoped>\n",
       "    .dataframe tbody tr th:only-of-type {\n",
       "        vertical-align: middle;\n",
       "    }\n",
       "\n",
       "    .dataframe tbody tr th {\n",
       "        vertical-align: top;\n",
       "    }\n",
       "\n",
       "    .dataframe thead th {\n",
       "        text-align: right;\n",
       "    }\n",
       "</style>\n",
       "<table border=\"1\" class=\"dataframe\">\n",
       "  <thead>\n",
       "    <tr style=\"text-align: right;\">\n",
       "      <th></th>\n",
       "      <th>ArraySize</th>\n",
       "      <th>Test1</th>\n",
       "      <th>Test2</th>\n",
       "      <th>Test3</th>\n",
       "      <th>Test4</th>\n",
       "      <th>Test5</th>\n",
       "      <th>Test6</th>\n",
       "      <th>Test7</th>\n",
       "      <th>Test8</th>\n",
       "      <th>Test9</th>\n",
       "      <th>AverageTime</th>\n",
       "      <th>SortType_InsertionSort</th>\n",
       "      <th>SortType_SelectionSort</th>\n",
       "      <th>ArrayType_Equal</th>\n",
       "      <th>ArrayType_Increasing</th>\n",
       "      <th>ArrayType_IncreasingAndRandom</th>\n",
       "      <th>ArrayType_Random</th>\n",
       "    </tr>\n",
       "  </thead>\n",
       "  <tbody>\n",
       "    <tr>\n",
       "      <th>0</th>\n",
       "      <td>10000</td>\n",
       "      <td>2.100887</td>\n",
       "      <td>1.816844</td>\n",
       "      <td>1.73494</td>\n",
       "      <td>1.653783</td>\n",
       "      <td>1.620458</td>\n",
       "      <td>1.646332</td>\n",
       "      <td>1.654642</td>\n",
       "      <td>1.675758</td>\n",
       "      <td>0.395732</td>\n",
       "      <td>1.588819</td>\n",
       "      <td>0</td>\n",
       "      <td>0</td>\n",
       "      <td>1</td>\n",
       "      <td>0</td>\n",
       "      <td>0</td>\n",
       "      <td>0</td>\n",
       "    </tr>\n",
       "  </tbody>\n",
       "</table>\n",
       "</div>"
      ],
      "text/plain": [
       "   ArraySize     Test1     Test2    Test3     Test4     Test5     Test6  \\\n",
       "0      10000  2.100887  1.816844  1.73494  1.653783  1.620458  1.646332   \n",
       "\n",
       "      Test7     Test8     Test9  AverageTime  SortType_InsertionSort  \\\n",
       "0  1.654642  1.675758  0.395732     1.588819                       0   \n",
       "\n",
       "   SortType_SelectionSort  ArrayType_Equal  ArrayType_Increasing  \\\n",
       "0                       0                1                     0   \n",
       "\n",
       "   ArrayType_IncreasingAndRandom  ArrayType_Random  \n",
       "0                              0                 0  "
      ]
     },
     "execution_count": 7,
     "metadata": {},
     "output_type": "execute_result"
    }
   ],
   "source": [
    "tests[:1]"
   ]
  },
  {
   "cell_type": "markdown",
   "id": "7a36ad8e",
   "metadata": {},
   "source": [
    "#### Data\n",
    "- Store the independent variables or features as a DataFrame inside the variable `x`.\n",
    "- Store the dependent variable as a Series inside the variable `y`."
   ]
  },
  {
   "cell_type": "code",
   "execution_count": 8,
   "id": "5b9c8852",
   "metadata": {},
   "outputs": [],
   "source": [
    "x = tests.drop(columns = [\"AverageTime\"])\n",
    "y = tests[\"AverageTime\"]"
   ]
  },
  {
   "cell_type": "markdown",
   "id": "5d21485b",
   "metadata": {},
   "source": [
    "Make sure the DataFrame does not contain the `AverageTime` column and that the Series only contains the `AverageTime` column."
   ]
  },
  {
   "cell_type": "code",
   "execution_count": 9,
   "id": "8ef4651e",
   "metadata": {},
   "outputs": [
    {
     "data": {
      "text/html": [
       "<div>\n",
       "<style scoped>\n",
       "    .dataframe tbody tr th:only-of-type {\n",
       "        vertical-align: middle;\n",
       "    }\n",
       "\n",
       "    .dataframe tbody tr th {\n",
       "        vertical-align: top;\n",
       "    }\n",
       "\n",
       "    .dataframe thead th {\n",
       "        text-align: right;\n",
       "    }\n",
       "</style>\n",
       "<table border=\"1\" class=\"dataframe\">\n",
       "  <thead>\n",
       "    <tr style=\"text-align: right;\">\n",
       "      <th></th>\n",
       "      <th>ArraySize</th>\n",
       "      <th>Test1</th>\n",
       "      <th>Test2</th>\n",
       "      <th>Test3</th>\n",
       "      <th>Test4</th>\n",
       "      <th>Test5</th>\n",
       "      <th>Test6</th>\n",
       "      <th>Test7</th>\n",
       "      <th>Test8</th>\n",
       "      <th>Test9</th>\n",
       "      <th>SortType_InsertionSort</th>\n",
       "      <th>SortType_SelectionSort</th>\n",
       "      <th>ArrayType_Equal</th>\n",
       "      <th>ArrayType_Increasing</th>\n",
       "      <th>ArrayType_IncreasingAndRandom</th>\n",
       "      <th>ArrayType_Random</th>\n",
       "    </tr>\n",
       "  </thead>\n",
       "  <tbody>\n",
       "    <tr>\n",
       "      <th>0</th>\n",
       "      <td>10000</td>\n",
       "      <td>2.100887</td>\n",
       "      <td>1.816844</td>\n",
       "      <td>1.73494</td>\n",
       "      <td>1.653783</td>\n",
       "      <td>1.620458</td>\n",
       "      <td>1.646332</td>\n",
       "      <td>1.654642</td>\n",
       "      <td>1.675758</td>\n",
       "      <td>0.395732</td>\n",
       "      <td>0</td>\n",
       "      <td>0</td>\n",
       "      <td>1</td>\n",
       "      <td>0</td>\n",
       "      <td>0</td>\n",
       "      <td>0</td>\n",
       "    </tr>\n",
       "  </tbody>\n",
       "</table>\n",
       "</div>"
      ],
      "text/plain": [
       "   ArraySize     Test1     Test2    Test3     Test4     Test5     Test6  \\\n",
       "0      10000  2.100887  1.816844  1.73494  1.653783  1.620458  1.646332   \n",
       "\n",
       "      Test7     Test8     Test9  SortType_InsertionSort  \\\n",
       "0  1.654642  1.675758  0.395732                       0   \n",
       "\n",
       "   SortType_SelectionSort  ArrayType_Equal  ArrayType_Increasing  \\\n",
       "0                       0                1                     0   \n",
       "\n",
       "   ArrayType_IncreasingAndRandom  ArrayType_Random  \n",
       "0                              0                 0  "
      ]
     },
     "execution_count": 9,
     "metadata": {},
     "output_type": "execute_result"
    }
   ],
   "source": [
    "x[:1]"
   ]
  },
  {
   "cell_type": "code",
   "execution_count": 10,
   "id": "de746f3c",
   "metadata": {},
   "outputs": [
    {
     "data": {
      "text/plain": [
       "0    1.588819\n",
       "Name: AverageTime, dtype: float64"
      ]
     },
     "execution_count": 10,
     "metadata": {},
     "output_type": "execute_result"
    }
   ],
   "source": [
    "y[:1]"
   ]
  },
  {
   "cell_type": "markdown",
   "id": "88916d20",
   "metadata": {},
   "source": [
    "#### Data Split\n",
    "Split the data into training and testing datasets. As per convention, split into 80% training and 20% testing."
   ]
  },
  {
   "cell_type": "code",
   "execution_count": 11,
   "id": "3d62fd32",
   "metadata": {},
   "outputs": [],
   "source": [
    "x_train, x_test, y_train, y_test = train_test_split(x, y, test_size = 0.2)"
   ]
  },
  {
   "cell_type": "markdown",
   "id": "1cdd72bb",
   "metadata": {},
   "source": [
    "Make sure the data was split correctly.\n",
    "- `x_train` and `y_train` should have the same indexes.\n",
    "- `x_test` and `y_test` should have the same indexes."
   ]
  },
  {
   "cell_type": "code",
   "execution_count": 12,
   "id": "b03c7c4b",
   "metadata": {},
   "outputs": [
    {
     "data": {
      "text/plain": [
       "True"
      ]
     },
     "execution_count": 12,
     "metadata": {},
     "output_type": "execute_result"
    }
   ],
   "source": [
    "# returns true if if all the indices match 1:1\n",
    "x_train.index.to_list() == y_train.index.to_list()"
   ]
  },
  {
   "cell_type": "code",
   "execution_count": 13,
   "id": "0fe2c2bc",
   "metadata": {},
   "outputs": [
    {
     "data": {
      "text/plain": [
       "True"
      ]
     },
     "execution_count": 13,
     "metadata": {},
     "output_type": "execute_result"
    }
   ],
   "source": [
    "# returns true if if all the indices match 1:1\n",
    "x_test.index.to_list() == y_test.index.to_list()"
   ]
  },
  {
   "cell_type": "markdown",
   "id": "cb95ef52",
   "metadata": {},
   "source": [
    "-------------------------------------------------------------------------"
   ]
  },
  {
   "cell_type": "markdown",
   "id": "26335396",
   "metadata": {},
   "source": [
    "### Definition\n",
    "This function definition facilitates comparing two mean squared errors by computing their percent difference."
   ]
  },
  {
   "cell_type": "code",
   "execution_count": 14,
   "id": "f8c5e3c7",
   "metadata": {},
   "outputs": [],
   "source": [
    "def compare_mse(mse_train, mse_test):\n",
    "    mse_diff = abs(mse_train - mse_test)\n",
    "    mse_mean = (mse_train + mse_test) / 2\n",
    "    print(\"   MSE train: %s\" %format(mse_train, \",.1f\"))\n",
    "    print(\"    MSE test: %s\" %format(mse_test, \",.1f\"))\n",
    "    print(\"  Difference: %s\" %format(mse_diff, \",.1f\"))\n",
    "    print(\"Percent Diff: %.2f%%\" %((mse_diff / mse_mean) * 100))"
   ]
  },
  {
   "cell_type": "markdown",
   "id": "ee281253",
   "metadata": {},
   "source": [
    "### Metric\n",
    "In order to evaluate the k-nearest neighbors and decision tree regression models, the mean squared error (\"MSE\") of the predictions made using the `x_train` and `x_test` data must be compared. It should be noted that the model is trained using the `x_train` and `y_train` data, thus, predictions made using the `x_train` data are not meaningful because the model learned this data. However, the MSE of the `x_train` predictions can be used as a metric for comparing with the MSE of the `x_test` predictions. Ideally, the two MSE should be similar, but:\n",
    "- If the MSE of the `x_test` predictions is significantly **higher** than that of the `x_train`: the model is **overfitting** the data.\n"
   ]
  },
  {
   "cell_type": "markdown",
   "id": "c9f5ec36",
   "metadata": {},
   "source": [
    "-------------------------------------------------------------------------"
   ]
  },
  {
   "cell_type": "markdown",
   "id": "7b668886",
   "metadata": {},
   "source": [
    "### K-Nearest Neighbors\n",
    "Use the `KNeighborsRegression` function from the `sklearn.neighbors` module to find the number of neighbors `k` for the k-nearest neighbors regressor that makes the best predictions for the average time variable."
   ]
  },
  {
   "cell_type": "code",
   "execution_count": 15,
   "id": "0d2cf6e8",
   "metadata": {},
   "outputs": [],
   "source": [
    "from sklearn.preprocessing import MinMaxScaler\n",
    "from sklearn.neighbors import KNeighborsRegressor"
   ]
  },
  {
   "cell_type": "markdown",
   "id": "f2121312",
   "metadata": {},
   "source": [
    "#### Scale\n",
    "Since the test times have different scales, to prevent the columns with the highest test times from dominating, normalize all the numerical columns for x."
   ]
  },
  {
   "cell_type": "code",
   "execution_count": 16,
   "id": "300b7805",
   "metadata": {},
   "outputs": [],
   "source": [
    "x_train_scaled = MinMaxScaler().fit_transform(x_train)\n",
    "x_test_scaled = MinMaxScaler().fit_transform(x_test)"
   ]
  },
  {
   "cell_type": "markdown",
   "id": "e080f5b8",
   "metadata": {},
   "source": [
    "#### Parameter Search\n",
    "Use a for-loop to calculate the mean squared error for different values of `k` in order to find the best `k` for the model."
   ]
  },
  {
   "cell_type": "code",
   "execution_count": 17,
   "id": "d6de2873",
   "metadata": {},
   "outputs": [],
   "source": [
    "mses_train_knn = []\n",
    "mses_test_knn = []\n",
    "for k in range(1,11):\n",
    "    knn_k = KNeighborsRegressor(n_neighbors = k).fit(x_train_scaled, y_train)\n",
    "    y_train_preds_k = knn_k.predict(x_train_scaled)\n",
    "    y_test_preds_k = knn_k.predict(x_test_scaled)\n",
    "    mses_train_knn.append(mean_squared_error(y_train_preds_k, y_train))\n",
    "    mses_test_knn.append(mean_squared_error(y_test_preds_k, y_test))"
   ]
  },
  {
   "cell_type": "code",
   "execution_count": 18,
   "id": "7f3287c7",
   "metadata": {
    "scrolled": false
   },
   "outputs": [
    {
     "data": {
      "text/plain": [
       "<matplotlib.legend.Legend at 0x7f74d6fd7850>"
      ]
     },
     "execution_count": 18,
     "metadata": {},
     "output_type": "execute_result"
    },
    {
     "data": {
      "image/png": "[encoded data removed]",
      "text/plain": [
       "<Figure size 720x480 with 1 Axes>"
      ]
     },
     "metadata": {},
     "output_type": "display_data"
    }
   ],
   "source": [
    "plt.plot(np.linspace(1, 10, num = 10), mses_train_knn)\n",
    "plt.plot(np.linspace(1, 10, num = 10), mses_test_knn)\n",
    "plt.title(\"MSE for Different Numbers of Neighbors\")\n",
    "plt.xlabel(\"k\")\n",
    "plt.ylabel(\"MSE\")\n",
    "plt.xlim(1,10)\n",
    "plt.legend([\"x_train\", \"x_test\"], title = \"Data\")"
   ]
  },
  {
   "cell_type": "markdown",
   "id": "57ddc913",
   "metadata": {},
   "source": [
    "The line plots represents the MSE of the predictions made using the `x_train` and `x_test` data for different values of k. As illustrated by the line plots, the MSE gets larger as k increases. This means that the k-nearest neighbors algorithm is not a good fit for this data at all. A different learning algorithm might fit the test times data better."
   ]
  },
  {
   "cell_type": "markdown",
   "id": "5244c72b",
   "metadata": {},
   "source": [
    "#### Mean Squared Error\n",
    "To test this observation, compute the mean squared error for the values of k from graph and compare their squared error."
   ]
  },
  {
   "cell_type": "code",
   "execution_count": 19,
   "id": "70d8d5e2",
   "metadata": {},
   "outputs": [
    {
     "name": "stdout",
     "output_type": "stream",
     "text": [
      "   MSE train: 0.0\n",
      "    MSE test: 1,516,570,053.8\n",
      "  Difference: 1,516,570,053.8\n",
      "Percent Diff: 200.00%\n",
      "   Neighbors: 1\n",
      "\n",
      "   MSE train: 68,141,320.6\n",
      "    MSE test: 2,116,452,709.9\n",
      "  Difference: 2,048,311,389.3\n",
      "Percent Diff: 187.52%\n",
      "   Neighbors: 2\n",
      "\n",
      "   MSE train: 464,170,465.4\n",
      "    MSE test: 441,332,942.8\n",
      "  Difference: 22,837,522.6\n",
      "Percent Diff: 5.04%\n",
      "   Neighbors: 3\n",
      "\n",
      "   MSE train: 920,464,007.7\n",
      "    MSE test: 172,131,206.1\n",
      "  Difference: 748,332,801.6\n",
      "Percent Diff: 136.98%\n",
      "   Neighbors: 4\n",
      "\n",
      "   MSE train: 1,331,779,098.5\n",
      "    MSE test: 299,035,694.2\n",
      "  Difference: 1,032,743,404.3\n",
      "Percent Diff: 126.65%\n",
      "   Neighbors: 5\n",
      "\n",
      "   MSE train: 1,636,079,436.4\n",
      "    MSE test: 436,390,249.3\n",
      "  Difference: 1,199,689,187.0\n",
      "Percent Diff: 115.77%\n",
      "   Neighbors: 6\n",
      "\n",
      "   MSE train: 1,928,797,729.6\n",
      "    MSE test: 623,584,669.7\n",
      "  Difference: 1,305,213,059.9\n",
      "Percent Diff: 102.27%\n",
      "   Neighbors: 7\n",
      "\n",
      "   MSE train: 2,154,486,684.7\n",
      "    MSE test: 758,088,820.1\n",
      "  Difference: 1,396,397,864.6\n",
      "Percent Diff: 95.89%\n",
      "   Neighbors: 8\n",
      "\n",
      "   MSE train: 2,354,622,663.7\n",
      "    MSE test: 878,811,682.0\n",
      "  Difference: 1,475,810,981.8\n",
      "Percent Diff: 91.28%\n",
      "   Neighbors: 9\n",
      "\n",
      "   MSE train: 2,553,577,890.7\n",
      "    MSE test: 1,056,326,642.3\n",
      "  Difference: 1,497,251,248.4\n",
      "Percent Diff: 82.95%\n",
      "   Neighbors: 10\n",
      "\n"
     ]
    }
   ],
   "source": [
    "for k in range(1,11):\n",
    "    knn_k = KNeighborsRegressor(n_neighbors = k).fit(x_train_scaled, y_train)\n",
    "    y_train_preds_knn_k = knn_k.predict(x_train_scaled)\n",
    "    y_test_preds_knn_k = knn_k.predict(x_test_scaled)\n",
    "    mse_train_preds_k = mean_squared_error(y_train_preds_knn_k, y_train)\n",
    "    mse_test_preds_k = mean_squared_error(y_test_preds_knn_k, y_test)\n",
    "    compare_mse(mse_train_preds_k, mse_test_preds_k)\n",
    "    print(\"   Neighbors: {}\\n\".format(k))"
   ]
  },
  {
   "cell_type": "markdown",
   "id": "56455855",
   "metadata": {},
   "source": [
    "As suspected, k-nearest neighbors is indeed not a learning algorithm for predicting the average test time for the test times data. For lower values of k, the model will overfit the data and for higher values of k the predictions do not make sense."
   ]
  },
  {
   "cell_type": "markdown",
   "id": "612707ac",
   "metadata": {},
   "source": [
    "-------------------------------------------------------------------------"
   ]
  },
  {
   "cell_type": "markdown",
   "id": "cf1a072f",
   "metadata": {},
   "source": [
    "### Decision Tree\n",
    "Use the `DecisionTreeRegressor` function from the `sklearn.tree` module to find the max depth for the decision tree that makes the best predictions for the average time variable."
   ]
  },
  {
   "cell_type": "code",
   "execution_count": 20,
   "id": "f7533ce1",
   "metadata": {},
   "outputs": [],
   "source": [
    "from sklearn.tree import DecisionTreeRegressor"
   ]
  },
  {
   "cell_type": "markdown",
   "id": "e6c37f85",
   "metadata": {},
   "source": [
    "#### Parameter Search\n",
    "Use a for-loop to calculate the mean squared error for different max depths in order to find the best `max_depth` for the model."
   ]
  },
  {
   "cell_type": "code",
   "execution_count": 21,
   "id": "2811a58d",
   "metadata": {},
   "outputs": [
    {
     "name": "stdout",
     "output_type": "stream",
     "text": [
      "   MSE train: 236,733,540.9\n",
      "    MSE test: 2,357,273,452.5\n",
      "  Difference: 2,120,539,911.6\n",
      "Percent Diff: 163.50%\n",
      "   max_depth: 1\n",
      "\n",
      "   MSE train: 43,939,102.8\n",
      "    MSE test: 1,820,595,111.4\n",
      "  Difference: 1,776,656,008.6\n",
      "Percent Diff: 190.57%\n",
      "   max_depth: 2\n",
      "\n",
      "   MSE train: 9,264,173.0\n",
      "    MSE test: 1,400,199,695.4\n",
      "  Difference: 1,390,935,522.4\n",
      "Percent Diff: 197.37%\n",
      "   max_depth: 3\n",
      "\n",
      "   MSE train: 1,064,747.7\n",
      "    MSE test: 1,196,912,960.5\n",
      "  Difference: 1,195,848,212.8\n",
      "Percent Diff: 199.64%\n",
      "   max_depth: 4\n",
      "\n",
      "   MSE train: 213,422.8\n",
      "    MSE test: 1,195,539,773.6\n",
      "  Difference: 1,195,326,350.7\n",
      "Percent Diff: 199.93%\n",
      "   max_depth: 5\n",
      "\n",
      "   MSE train: 20,139.4\n",
      "    MSE test: 1,376,508,205.1\n",
      "  Difference: 1,376,488,065.8\n",
      "Percent Diff: 199.99%\n",
      "   max_depth: 6\n",
      "\n"
     ]
    }
   ],
   "source": [
    "for depth in range(1,7):\n",
    "    tree_depth = DecisionTreeRegressor(max_depth = depth).fit(x_train,y_train)\n",
    "    y_train_preds_depth = tree_depth.predict(x_train)\n",
    "    y_test_preds_depth = tree_depth.predict(x_test)\n",
    "    mse_train_preds_depth = mean_squared_error(y_train_preds_depth, y_train)\n",
    "    mse_test_preds_depth = mean_squared_error(y_test_preds_depth, y_test)\n",
    "    compare_mse(mse_train_preds_depth, mse_test_preds_depth)\n",
    "    print(\"   max_depth: {}\\n\".format(depth))"
   ]
  },
  {
   "cell_type": "markdown",
   "id": "8ccc1e77",
   "metadata": {},
   "source": [
    "As the max depth increases the MSE for the training data predictions approaches zero. This is evidence of the model memorizing the data and thus resulting in overfitting. The best depth for this model would be for `max_depth = 1`, however, even max depth of 1 is too complex for the data. Since the decision tree overfits the data for all parameters, it also will not work for predicting the average time. The simplistic two dimensional nature of the data should make it a good fit for linear regression."
   ]
  },
  {
   "cell_type": "markdown",
   "id": "386ccb40",
   "metadata": {},
   "source": [
    "-------------------------------------------------------------------------"
   ]
  },
  {
   "cell_type": "markdown",
   "id": "8a9929d2",
   "metadata": {},
   "source": [
    "### Linear Regression\n",
    "Fit a linear model using the `statsmodels.formula.api` module, and evaluate it."
   ]
  },
  {
   "cell_type": "code",
   "execution_count": 22,
   "id": "cec44447",
   "metadata": {},
   "outputs": [
    {
     "name": "stdout",
     "output_type": "stream",
     "text": [
      "ArraySize + Test1 + Test2 + Test3 + Test4 + Test5 + Test6 + Test7 + Test8 + Test9 + SortType_InsertionSort + SortType_SelectionSort + ArrayType_Equal + ArrayType_Increasing + ArrayType_IncreasingAndRandom + ArrayType_Random\n"
     ]
    }
   ],
   "source": [
    "print(*x.columns, sep = \" + \")"
   ]
  },
  {
   "cell_type": "code",
   "execution_count": 23,
   "id": "259badd5",
   "metadata": {},
   "outputs": [],
   "source": [
    "# store the features in a string as shown in the line above\n",
    "all_features = \" + \".join(map(str, x.columns))\n",
    "lm = smf.ols(\"AverageTime ~ {}\".format(all_features), data = tests).fit()"
   ]
  },
  {
   "cell_type": "code",
   "execution_count": 24,
   "id": "8ea0ddc8",
   "metadata": {},
   "outputs": [
    {
     "data": {
      "text/html": [
       "<table class=\"simpletable\">\n",
       "<tr>\n",
       "        <td>Model:</td>               <td>OLS</td>         <td>Adj. R-squared:</td>      <td>1.000</td>  \n",
       "</tr>\n",
       "<tr>\n",
       "  <td>Dependent Variable:</td>    <td>AverageTime</td>          <td>AIC:</td>         <td>-1623.3023</td>\n",
       "</tr>\n",
       "<tr>\n",
       "         <td>Date:</td>        <td>2022-04-19 01:05</td>        <td>BIC:</td>         <td>-1587.6984</td>\n",
       "</tr>\n",
       "<tr>\n",
       "   <td>No. Observations:</td>         <td>60</td>          <td>Log-Likelihood:</td>     <td>828.65</td>  \n",
       "</tr>\n",
       "<tr>\n",
       "       <td>Df Model:</td>             <td>16</td>           <td>F-statistic:</td>      <td>1.857e+23</td>\n",
       "</tr>\n",
       "<tr>\n",
       "     <td>Df Residuals:</td>           <td>43</td>        <td>Prob (F-statistic):</td>    <td>0.00</td>   \n",
       "</tr>\n",
       "<tr>\n",
       "      <td>R-squared:</td>            <td>1.000</td>            <td>Scale:</td>        <td>8.2462e-14</td>\n",
       "</tr>\n",
       "</table>\n",
       "<table class=\"simpletable\">\n",
       "<tr>\n",
       "                <td></td>                 <th>Coef.</th>  <th>Std.Err.</th>        <th>t</th>         <th>P>|t|</th> <th>[0.025</th>  <th>0.975]</th> \n",
       "</tr>\n",
       "<tr>\n",
       "  <th>Intercept</th>                     <td>-0.0000</td>  <td>0.0000</td>      <td>-3.9408</td>     <td>0.0003</td> <td>-0.0000</td> <td>-0.0000</td>\n",
       "</tr>\n",
       "<tr>\n",
       "  <th>ArraySize</th>                     <td>-0.0000</td>  <td>0.0000</td>      <td>-1.8336</td>     <td>0.0736</td> <td>-0.0000</td> <td>0.0000</td> \n",
       "</tr>\n",
       "<tr>\n",
       "  <th>Test1</th>                         <td>0.1111</td>   <td>0.0000</td>  <td>6681652195.9702</td> <td>0.0000</td> <td>0.1111</td>  <td>0.1111</td> \n",
       "</tr>\n",
       "<tr>\n",
       "  <th>Test2</th>                         <td>0.1111</td>   <td>0.0000</td>  <td>5550723158.0208</td> <td>0.0000</td> <td>0.1111</td>  <td>0.1111</td> \n",
       "</tr>\n",
       "<tr>\n",
       "  <th>Test3</th>                         <td>0.1111</td>   <td>0.0000</td>  <td>2853106418.4690</td> <td>0.0000</td> <td>0.1111</td>  <td>0.1111</td> \n",
       "</tr>\n",
       "<tr>\n",
       "  <th>Test4</th>                         <td>0.1111</td>   <td>0.0000</td>  <td>2523715106.2122</td> <td>0.0000</td> <td>0.1111</td>  <td>0.1111</td> \n",
       "</tr>\n",
       "<tr>\n",
       "  <th>Test5</th>                         <td>0.1111</td>   <td>0.0000</td>  <td>2238035065.2191</td> <td>0.0000</td> <td>0.1111</td>  <td>0.1111</td> \n",
       "</tr>\n",
       "<tr>\n",
       "  <th>Test6</th>                         <td>0.1111</td>   <td>0.0000</td>  <td>2459670401.5527</td> <td>0.0000</td> <td>0.1111</td>  <td>0.1111</td> \n",
       "</tr>\n",
       "<tr>\n",
       "  <th>Test7</th>                         <td>0.1111</td>   <td>0.0000</td>  <td>3660788333.1151</td> <td>0.0000</td> <td>0.1111</td>  <td>0.1111</td> \n",
       "</tr>\n",
       "<tr>\n",
       "  <th>Test8</th>                         <td>0.1111</td>   <td>0.0000</td>  <td>1919962574.6402</td> <td>0.0000</td> <td>0.1111</td>  <td>0.1111</td> \n",
       "</tr>\n",
       "<tr>\n",
       "  <th>Test9</th>                         <td>0.1111</td>   <td>0.0000</td>  <td>2160224333.2968</td> <td>0.0000</td> <td>0.1111</td>  <td>0.1111</td> \n",
       "</tr>\n",
       "<tr>\n",
       "  <th>SortType_InsertionSort</th>        <td>0.0000</td>   <td>0.0000</td>      <td>0.8399</td>      <td>0.4056</td> <td>-0.0000</td> <td>0.0000</td> \n",
       "</tr>\n",
       "<tr>\n",
       "  <th>SortType_SelectionSort</th>        <td>0.0000</td>   <td>0.0000</td>      <td>0.0773</td>      <td>0.9387</td> <td>-0.0000</td> <td>0.0000</td> \n",
       "</tr>\n",
       "<tr>\n",
       "  <th>ArrayType_Equal</th>               <td>0.0000</td>   <td>0.0000</td>      <td>0.6498</td>      <td>0.5193</td> <td>-0.0000</td> <td>0.0000</td> \n",
       "</tr>\n",
       "<tr>\n",
       "  <th>ArrayType_Increasing</th>          <td>-0.0000</td>  <td>0.0000</td>      <td>-0.1838</td>     <td>0.8550</td> <td>-0.0000</td> <td>0.0000</td> \n",
       "</tr>\n",
       "<tr>\n",
       "  <th>ArrayType_IncreasingAndRandom</th> <td>0.0000</td>   <td>0.0000</td>      <td>1.3800</td>      <td>0.1747</td> <td>-0.0000</td> <td>0.0000</td> \n",
       "</tr>\n",
       "<tr>\n",
       "  <th>ArrayType_Random</th>              <td>0.0000</td>   <td>0.0000</td>      <td>0.6670</td>      <td>0.5083</td> <td>-0.0000</td> <td>0.0000</td> \n",
       "</tr>\n",
       "</table>\n",
       "<table class=\"simpletable\">\n",
       "<tr>\n",
       "     <td>Omnibus:</td>     <td>1.129</td>  <td>Durbin-Watson:</td>    <td>2.591</td> \n",
       "</tr>\n",
       "<tr>\n",
       "  <td>Prob(Omnibus):</td>  <td>0.569</td> <td>Jarque-Bera (JB):</td>  <td>1.104</td> \n",
       "</tr>\n",
       "<tr>\n",
       "       <td>Skew:</td>     <td>-0.193</td>     <td>Prob(JB):</td>      <td>0.576</td> \n",
       "</tr>\n",
       "<tr>\n",
       "     <td>Kurtosis:</td>    <td>2.459</td>  <td>Condition No.:</td>   <td>1281612</td>\n",
       "</tr>\n",
       "</table>"
      ],
      "text/plain": [
       "<class 'statsmodels.iolib.summary2.Summary'>\n",
       "\"\"\"\n",
       "                           Results: Ordinary least squares\n",
       "=====================================================================================\n",
       "Model:                    OLS                    Adj. R-squared:           1.000     \n",
       "Dependent Variable:       AverageTime            AIC:                      -1623.3023\n",
       "Date:                     2022-04-19 01:05       BIC:                      -1587.6984\n",
       "No. Observations:         60                     Log-Likelihood:           828.65    \n",
       "Df Model:                 16                     F-statistic:              1.857e+23 \n",
       "Df Residuals:             43                     Prob (F-statistic):       0.00      \n",
       "R-squared:                1.000                  Scale:                    8.2462e-14\n",
       "-------------------------------------------------------------------------------------\n",
       "                               Coef.  Std.Err.        t        P>|t|   [0.025  0.975]\n",
       "-------------------------------------------------------------------------------------\n",
       "Intercept                     -0.0000   0.0000         -3.9408 0.0003 -0.0000 -0.0000\n",
       "ArraySize                     -0.0000   0.0000         -1.8336 0.0736 -0.0000  0.0000\n",
       "Test1                          0.1111   0.0000 6681652195.9702 0.0000  0.1111  0.1111\n",
       "Test2                          0.1111   0.0000 5550723158.0208 0.0000  0.1111  0.1111\n",
       "Test3                          0.1111   0.0000 2853106418.4690 0.0000  0.1111  0.1111\n",
       "Test4                          0.1111   0.0000 2523715106.2122 0.0000  0.1111  0.1111\n",
       "Test5                          0.1111   0.0000 2238035065.2191 0.0000  0.1111  0.1111\n",
       "Test6                          0.1111   0.0000 2459670401.5527 0.0000  0.1111  0.1111\n",
       "Test7                          0.1111   0.0000 3660788333.1151 0.0000  0.1111  0.1111\n",
       "Test8                          0.1111   0.0000 1919962574.6402 0.0000  0.1111  0.1111\n",
       "Test9                          0.1111   0.0000 2160224333.2968 0.0000  0.1111  0.1111\n",
       "SortType_InsertionSort         0.0000   0.0000          0.8399 0.4056 -0.0000  0.0000\n",
       "SortType_SelectionSort         0.0000   0.0000          0.0773 0.9387 -0.0000  0.0000\n",
       "ArrayType_Equal                0.0000   0.0000          0.6498 0.5193 -0.0000  0.0000\n",
       "ArrayType_Increasing          -0.0000   0.0000         -0.1838 0.8550 -0.0000  0.0000\n",
       "ArrayType_IncreasingAndRandom  0.0000   0.0000          1.3800 0.1747 -0.0000  0.0000\n",
       "ArrayType_Random               0.0000   0.0000          0.6670 0.5083 -0.0000  0.0000\n",
       "-------------------------------------------------------------------------------------\n",
       "Omnibus:                     1.129              Durbin-Watson:                2.591  \n",
       "Prob(Omnibus):               0.569              Jarque-Bera (JB):             1.104  \n",
       "Skew:                        -0.193             Prob(JB):                     0.576  \n",
       "Kurtosis:                    2.459              Condition No.:                1281612\n",
       "=====================================================================================\n",
       "* The condition number is large (1e+06). This might indicate             strong\n",
       "multicollinearity or other numerical problems.\n",
       "\"\"\""
      ]
     },
     "execution_count": 24,
     "metadata": {},
     "output_type": "execute_result"
    }
   ],
   "source": [
    "lm.summary2()"
   ]
  },
  {
   "cell_type": "code",
   "execution_count": 25,
   "id": "c316479d",
   "metadata": {},
   "outputs": [
    {
     "data": {
      "text/plain": [
       "Text(0, 0.5, 'Actual Average Time (milliseconds)')"
      ]
     },
     "execution_count": 25,
     "metadata": {},
     "output_type": "execute_result"
    },
    {
     "data": {
      "image/png": "[encoded data removed]",
      "text/plain": [
       "<Figure size 720x480 with 1 Axes>"
      ]
     },
     "metadata": {},
     "output_type": "display_data"
    }
   ],
   "source": [
    "lm.resid.hist(bins = 10)\n",
    "plt.title(\"Actual Average Time vs Residual\")\n",
    "plt.xlabel(\"Residual\")\n",
    "plt.ylabel(\"Actual Average Time (milliseconds)\")"
   ]
  },
  {
   "cell_type": "code",
   "execution_count": 26,
   "id": "5032894c",
   "metadata": {},
   "outputs": [
    {
     "data": {
      "text/plain": [
       "<matplotlib.lines.Line2D at 0x7f74d6a3da20>"
      ]
     },
     "execution_count": 26,
     "metadata": {},
     "output_type": "execute_result"
    },
    {
     "data": {
      "image/png": "[encoded data removed]",
      "text/plain": [
       "<Figure size 720x480 with 1 Axes>"
      ]
     },
     "metadata": {},
     "output_type": "display_data"
    }
   ],
   "source": [
    "plt.scatter(x = tests[\"AverageTime\"], y = lm.resid)\n",
    "plt.xlabel(\"Actual Average Time (milliseconds)\")\n",
    "plt.ylabel(\"Residual\")\n",
    "plt.axhline(0)"
   ]
  },
  {
   "cell_type": "markdown",
   "id": "0f57ae6d",
   "metadata": {},
   "source": [
    "The residuals are in the order of magnitude $1 \\times 10^{-7}$. The difference between the $actual - predicted$ average time is negligible."
   ]
  },
  {
   "cell_type": "markdown",
   "id": "c71b2b39",
   "metadata": {},
   "source": [
    "#### Drop Features with High P-value\n",
    "This project uses `0.05` as the threshold for $P > |t|$ values. The independent variables with a P-value higher than or equal to the threshold are dropped from the model because they are considered to not have an effect on the predictor. In other words, by dropping the independent variables with high P-values, the regression model can be simplified for little to not cost. This trade-off is oftentimes worth it because we want our models to be as complicated as they need to be, but not more complicated."
   ]
  },
  {
   "cell_type": "markdown",
   "id": "20b7dd44",
   "metadata": {},
   "source": [
    "Fit another linear model using features with P-values less than the threshold."
   ]
  },
  {
   "cell_type": "code",
   "execution_count": 27,
   "id": "1c2fd6b2",
   "metadata": {},
   "outputs": [],
   "source": [
    "features = \"Test1 + Test2 + Test3 + Test4 + Test5 + Test6 + Test7 + Test8 + Test9\"\n",
    "lm2 = smf.ols(\"AverageTime ~ {}\".format(features), data = tests).fit()"
   ]
  },
  {
   "cell_type": "code",
   "execution_count": 28,
   "id": "da16f649",
   "metadata": {},
   "outputs": [
    {
     "data": {
      "text/html": [
       "<table class=\"simpletable\">\n",
       "<tr>\n",
       "        <td>Model:</td>               <td>OLS</td>         <td>Adj. R-squared:</td>      <td>1.000</td>  \n",
       "</tr>\n",
       "<tr>\n",
       "  <td>Dependent Variable:</td>    <td>AverageTime</td>          <td>AIC:</td>         <td>-1627.2019</td>\n",
       "</tr>\n",
       "<tr>\n",
       "         <td>Date:</td>        <td>2022-04-19 01:05</td>        <td>BIC:</td>         <td>-1606.2585</td>\n",
       "</tr>\n",
       "<tr>\n",
       "   <td>No. Observations:</td>         <td>60</td>          <td>Log-Likelihood:</td>     <td>823.60</td>  \n",
       "</tr>\n",
       "<tr>\n",
       "       <td>Df Model:</td>              <td>9</td>           <td>F-statistic:</td>      <td>3.244e+23</td>\n",
       "</tr>\n",
       "<tr>\n",
       "     <td>Df Residuals:</td>           <td>50</td>        <td>Prob (F-statistic):</td>    <td>0.00</td>   \n",
       "</tr>\n",
       "<tr>\n",
       "      <td>R-squared:</td>            <td>1.000</td>            <td>Scale:</td>        <td>8.3919e-14</td>\n",
       "</tr>\n",
       "</table>\n",
       "<table class=\"simpletable\">\n",
       "<tr>\n",
       "      <td></td>       <th>Coef.</th>  <th>Std.Err.</th>        <th>t</th>         <th>P>|t|</th> <th>[0.025</th>  <th>0.975]</th> \n",
       "</tr>\n",
       "<tr>\n",
       "  <th>Intercept</th> <td>-0.0000</td>  <td>0.0000</td>     <td>-10.4775</td>     <td>0.0000</td> <td>-0.0000</td> <td>-0.0000</td>\n",
       "</tr>\n",
       "<tr>\n",
       "  <th>Test1</th>     <td>0.1111</td>   <td>0.0000</td>  <td>8285856752.1357</td> <td>0.0000</td> <td>0.1111</td>  <td>0.1111</td> \n",
       "</tr>\n",
       "<tr>\n",
       "  <th>Test2</th>     <td>0.1111</td>   <td>0.0000</td>  <td>6323926769.1135</td> <td>0.0000</td> <td>0.1111</td>  <td>0.1111</td> \n",
       "</tr>\n",
       "<tr>\n",
       "  <th>Test3</th>     <td>0.1111</td>   <td>0.0000</td>  <td>3191469777.9735</td> <td>0.0000</td> <td>0.1111</td>  <td>0.1111</td> \n",
       "</tr>\n",
       "<tr>\n",
       "  <th>Test4</th>     <td>0.1111</td>   <td>0.0000</td>  <td>3026068355.2502</td> <td>0.0000</td> <td>0.1111</td>  <td>0.1111</td> \n",
       "</tr>\n",
       "<tr>\n",
       "  <th>Test5</th>     <td>0.1111</td>   <td>0.0000</td>  <td>2747711919.3962</td> <td>0.0000</td> <td>0.1111</td>  <td>0.1111</td> \n",
       "</tr>\n",
       "<tr>\n",
       "  <th>Test6</th>     <td>0.1111</td>   <td>0.0000</td>  <td>2652369605.8183</td> <td>0.0000</td> <td>0.1111</td>  <td>0.1111</td> \n",
       "</tr>\n",
       "<tr>\n",
       "  <th>Test7</th>     <td>0.1111</td>   <td>0.0000</td>  <td>4171130113.4212</td> <td>0.0000</td> <td>0.1111</td>  <td>0.1111</td> \n",
       "</tr>\n",
       "<tr>\n",
       "  <th>Test8</th>     <td>0.1111</td>   <td>0.0000</td>  <td>2400281306.9693</td> <td>0.0000</td> <td>0.1111</td>  <td>0.1111</td> \n",
       "</tr>\n",
       "<tr>\n",
       "  <th>Test9</th>     <td>0.1111</td>   <td>0.0000</td>  <td>2423974827.5740</td> <td>0.0000</td> <td>0.1111</td>  <td>0.1111</td> \n",
       "</tr>\n",
       "</table>\n",
       "<table class=\"simpletable\">\n",
       "<tr>\n",
       "     <td>Omnibus:</td>    <td>10.249</td>  <td>Durbin-Watson:</td>    <td>2.391</td>\n",
       "</tr>\n",
       "<tr>\n",
       "  <td>Prob(Omnibus):</td>  <td>0.006</td> <td>Jarque-Bera (JB):</td>  <td>3.095</td>\n",
       "</tr>\n",
       "<tr>\n",
       "       <td>Skew:</td>     <td>-0.100</td>     <td>Prob(JB):</td>      <td>0.213</td>\n",
       "</tr>\n",
       "<tr>\n",
       "     <td>Kurtosis:</td>    <td>1.905</td>  <td>Condition No.:</td>   <td>236709</td>\n",
       "</tr>\n",
       "</table>"
      ],
      "text/plain": [
       "<class 'statsmodels.iolib.summary2.Summary'>\n",
       "\"\"\"\n",
       "                  Results: Ordinary least squares\n",
       "===================================================================\n",
       "Model:              OLS              Adj. R-squared:     1.000     \n",
       "Dependent Variable: AverageTime      AIC:                -1627.2019\n",
       "Date:               2022-04-19 01:05 BIC:                -1606.2585\n",
       "No. Observations:   60               Log-Likelihood:     823.60    \n",
       "Df Model:           9                F-statistic:        3.244e+23 \n",
       "Df Residuals:       50               Prob (F-statistic): 0.00      \n",
       "R-squared:          1.000            Scale:              8.3919e-14\n",
       "-------------------------------------------------------------------\n",
       "             Coef.  Std.Err.        t        P>|t|   [0.025  0.975]\n",
       "-------------------------------------------------------------------\n",
       "Intercept   -0.0000   0.0000        -10.4775 0.0000 -0.0000 -0.0000\n",
       "Test1        0.1111   0.0000 8285856752.1357 0.0000  0.1111  0.1111\n",
       "Test2        0.1111   0.0000 6323926769.1135 0.0000  0.1111  0.1111\n",
       "Test3        0.1111   0.0000 3191469777.9735 0.0000  0.1111  0.1111\n",
       "Test4        0.1111   0.0000 3026068355.2502 0.0000  0.1111  0.1111\n",
       "Test5        0.1111   0.0000 2747711919.3962 0.0000  0.1111  0.1111\n",
       "Test6        0.1111   0.0000 2652369605.8183 0.0000  0.1111  0.1111\n",
       "Test7        0.1111   0.0000 4171130113.4212 0.0000  0.1111  0.1111\n",
       "Test8        0.1111   0.0000 2400281306.9693 0.0000  0.1111  0.1111\n",
       "Test9        0.1111   0.0000 2423974827.5740 0.0000  0.1111  0.1111\n",
       "-------------------------------------------------------------------\n",
       "Omnibus:              10.249        Durbin-Watson:           2.391 \n",
       "Prob(Omnibus):        0.006         Jarque-Bera (JB):        3.095 \n",
       "Skew:                 -0.100        Prob(JB):                0.213 \n",
       "Kurtosis:             1.905         Condition No.:           236709\n",
       "===================================================================\n",
       "* The condition number is large (2e+05). This might indicate\n",
       "strong multicollinearity or other numerical problems.\n",
       "\"\"\""
      ]
     },
     "execution_count": 28,
     "metadata": {},
     "output_type": "execute_result"
    }
   ],
   "source": [
    "lm2.summary2()"
   ]
  },
  {
   "cell_type": "markdown",
   "id": "4b7d7df7",
   "metadata": {},
   "source": [
    "As expected, the R-squared value did not change. It makes sense for the test times to have the most impact on the predictor for the average time. The average time was computed directly from the test times."
   ]
  }
 ],
 "metadata": {
  "kernelspec": {
   "display_name": "Python 3 (ipykernel)",
   "language": "python",
   "name": "python3"
  },
  "language_info": {
   "codemirror_mode": {
    "name": "ipython",
    "version": 3
   },
   "file_extension": ".py",
   "mimetype": "text/x-python",
   "name": "python",
   "nbconvert_exporter": "python",
   "pygments_lexer": "ipython3",
   "version": "3.10.4"
  }
 },
 "nbformat": 4,
 "nbformat_minor": 5
}
